{
 "cells": [
  {
   "cell_type": "code",
   "execution_count": null,
   "metadata": {},
   "outputs": [],
   "source": [
    "import pandas \n",
    "file_path='C:/Users/oye01/OneDrive/바탕 화면/bosch-production-line-performance/test_numeric.csv/test_numeric.csv'\n",
    "\n",
    "dfbosch=pandas.read_csv(file_path)\n",
    "print(dfbosch)\n",
    "#print(dfbike.Sum_LENGTH.describe())"
   ]
  }
 ],
 "metadata": {
  "kernelspec": {
   "display_name": "pydatavenv",
   "language": "python",
   "name": "pydatavenv"
  },
  "language_info": {
   "codemirror_mode": {
    "name": "ipython",
    "version": 3
   },
   "file_extension": ".py",
   "mimetype": "text/x-python",
   "name": "python",
   "nbconvert_exporter": "python",
   "pygments_lexer": "ipython3",
   "version": "3.7.9"
  }
 },
 "nbformat": 4,
 "nbformat_minor": 4
}
