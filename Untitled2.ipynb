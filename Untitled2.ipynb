{
 "cells": [
  {
   "cell_type": "code",
   "execution_count": 1,
   "metadata": {},
   "outputs": [
    {
     "name": "stdout",
     "output_type": "stream",
     "text": [
      "              Id  Response\n",
      "0              1         0\n",
      "1              2         0\n",
      "2              3         0\n",
      "3              5         0\n",
      "4              8         0\n",
      "...          ...       ...\n",
      "1183743  2367483         0\n",
      "1183744  2367485         0\n",
      "1183745  2367486         0\n",
      "1183746  2367489         0\n",
      "1183747  2367494         0\n",
      "\n",
      "[1183748 rows x 2 columns]\n"
     ]
    }
   ],
   "source": [
    "import pandas \n",
    "file_path='C:/Users/oye01/OneDrive/바탕 화면/bosch-production-line-performance/sample_submission.csv/sample_submission.csv'\n",
    "\n",
    "dfbosch2=pandas.read_csv(file_path)\n",
    "print(dfbosch2)\n",
    "#print(dfbike.Sum_LENGTH.describe())\n",
    "\n",
    "\n"
   ]
  }
 ],
 "metadata": {
  "kernelspec": {
   "display_name": "pydatavenv",
   "language": "python",
   "name": "pydatavenv"
  },
  "language_info": {
   "codemirror_mode": {
    "name": "ipython",
    "version": 3
   },
   "file_extension": ".py",
   "mimetype": "text/x-python",
   "name": "python",
   "nbconvert_exporter": "python",
   "pygments_lexer": "ipython3",
   "version": "3.7.9"
  }
 },
 "nbformat": 4,
 "nbformat_minor": 4
}
